{
 "cells": [
  {
   "attachments": {},
   "cell_type": "markdown",
   "metadata": {},
   "source": [
    "# Redes Neuronales Artificiales - Trabajo Práctico 1\n",
    "\n",
    "### Guillermina Cabrol, Magalí Giansiracusa, Sofía Goldberg\n",
    "\n"
   ]
  },
  {
   "cell_type": "code",
   "execution_count": 1,
   "metadata": {},
   "outputs": [],
   "source": [
    "import numpy as np \n",
    "import pandas as pd\n",
    "from matplotlib import pyplot as plt, cm\n",
    "import requests"
   ]
  },
  {
   "cell_type": "code",
   "execution_count": 39,
   "metadata": {},
   "outputs": [
    {
     "data": {
      "text/plain": [
       "410"
      ]
     },
     "execution_count": 39,
     "metadata": {},
     "output_type": "execute_result"
    }
   ],
   "source": [
    "r = requests.get('https://git.exactas.uba.ar/redes-neuronales/clases/-/raw/master/practicas/datos/tp1_ej1_training.csv')\n",
    "data = np.loadtxt(r.iter_lines(), delimiter=',')\n"
   ]
  },
  {
   "cell_type": "code",
   "execution_count": 71,
   "metadata": {},
   "outputs": [],
   "source": [
    "from math import ceil, floor\n",
    "import random\n",
    "\n",
    "def split(\n",
    "        arrays: np.ndarray,\n",
    "        test_size: float = None,\n",
    "        train_size: int = None,\n",
    "        random_state: int = None,\n",
    "        shuffle: bool = True\n",
    "    ) -> tuple:\n",
    "\n",
    "    \"\"\"Separa el conjunto de datos en conjuntos de train y test al azar.\n",
    "\n",
    "    Parameters\n",
    "    ----------\n",
    "    *arrays: numpy array con los datos a ser separados.\n",
    "\n",
    "    test_size: proporción del dataset a incluir en test.\n",
    "        Si es None, es el complemento del tamaño de train. Si ambos son None, vale 0.20.\n",
    "    \n",
    "    train_size: proporción del dataset a incluir en train.\n",
    "        Si es None, es el complemento del tamaño de test.\n",
    "\n",
    "    random_state: sirve para que los resultados sean reproducibles.\n",
    "\n",
    "    shuffle: si mezclar o no los datos antes de separar. \n",
    "\n",
    "    Returns\n",
    "    -------\n",
    "    split: lista que contiene el conjunto de test y el de train.\n",
    "    \"\"\"\n",
    "\n",
    "    n = len(arrays)\n",
    "\n",
    "    if test_size is None and train_size is None:\n",
    "        test_size = 0.20\n",
    "        train_size = 0.80\n",
    "    \n",
    "    n_test = ceil(test_size * n)\n",
    "    n_train = floor(train_size * n)\n",
    "\n",
    "    if train_size is None:\n",
    "        n_train = n - n_train\n",
    "\n",
    "    if test_size is None:\n",
    "        n_test = n - n_test\n",
    "\n",
    "    n_train, n_test = int(n_train), int(n_test)\n",
    "\n",
    "    \n",
    "    if shuffle is True:\n",
    "        random.Random(random_state).shuffle(arrays)\n",
    "    \n",
    "    train = arrays[:n_train]\n",
    "    test = arrays[n_test:]\n",
    "\n",
    "    df_train = pd.DataFrame(train)\n",
    "    df_test = pd.DataFrame(test)\n",
    "\n",
    "    X_train = df_train.loc[:,1:].to_numpy()\n",
    "    Z_train = np.array(df_train.loc[:, 0])\n",
    "    \n",
    "    X_test = df_test.loc[:,1:].to_numpy()\n",
    "    Z_test = np.array(df_test.loc[:, 0])\n",
    "\n",
    "    return X_train, Z_train, X_test, Z_test\n",
    "\n"
   ]
  },
  {
   "cell_type": "code",
   "execution_count": 73,
   "metadata": {},
   "outputs": [],
   "source": [
    "X_train, Z_train, X_test, Z_test = split(data)"
   ]
  }
 ],
 "metadata": {
  "kernelspec": {
   "display_name": "Python 3",
   "language": "python",
   "name": "python3"
  },
  "language_info": {
   "codemirror_mode": {
    "name": "ipython",
    "version": 3
   },
   "file_extension": ".py",
   "mimetype": "text/x-python",
   "name": "python",
   "nbconvert_exporter": "python",
   "pygments_lexer": "ipython3",
   "version": "3.10.4"
  },
  "orig_nbformat": 4
 },
 "nbformat": 4,
 "nbformat_minor": 2
}
